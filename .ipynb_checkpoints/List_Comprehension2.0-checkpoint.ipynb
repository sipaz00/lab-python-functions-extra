{
 "cells": [
  {
   "cell_type": "code",
   "execution_count": 1,
   "id": "dc4e2ad7-a9aa-4e34-a2db-112b10440cbb",
   "metadata": {},
   "outputs": [],
   "source": [
    "products = [\"mug\", \"book\", \"hat\", \"tshirt\", \"keychain\"]\n",
    "\n",
    "def initialize_inventory(products):\n",
    "    inventory = {product: int(input(f\"Enter the quantity of {product}s available: \")) for product in products}\n",
    "    return inventory\n",
    "\n",
    "def get_customer_orders():\n",
    "    \"\"\"First we have to know how many products the user wants to order\"\"\"\n",
    "    amount_ordered = int(input(\"Please enter the amount of products you would like to buy: \"))\n",
    "    \n",
    "    \"\"\"With comprehension: user input to know what are the exact products they want to buy\"\"\"\n",
    "    customer_orders = {input(f\"What is the product number {i+1}?: \") for i in range(amount_ordered)}\n",
    "    \n",
    "    return customer_orders\n",
    "\n",
    "def total_price(customer_orders):\n",
    "    price = sum([int(input(f\"What is the price for product {i}?:\")) for i in customer_orders])\n",
    "    return (\"Total price is: \" + str(price))\n",
    "\n",
    "def update_inventory2 (customer_orders, inventory):\n",
    "    for order in customer_orders:\n",
    "            inventory[order]-=1\n",
    "    return inventory"
   ]
  },
  {
   "cell_type": "code",
   "execution_count": 2,
   "id": "b5eb9da4-cdbc-4294-8792-7c3a49ed76b6",
   "metadata": {},
   "outputs": [
    {
     "name": "stdin",
     "output_type": "stream",
     "text": [
      "Enter the quantity of mugs available:  8\n",
      "Enter the quantity of books available:  8\n",
      "Enter the quantity of hats available:  8\n",
      "Enter the quantity of tshirts available:  8\n",
      "Enter the quantity of keychains available:  8\n"
     ]
    },
    {
     "name": "stdout",
     "output_type": "stream",
     "text": [
      "\n",
      "\n"
     ]
    },
    {
     "name": "stdin",
     "output_type": "stream",
     "text": [
      "Please enter the amount of products you would like to buy:  2\n",
      "What is the product number 1?:  mug\n",
      "What is the product number 2?:  hat\n"
     ]
    },
    {
     "name": "stdout",
     "output_type": "stream",
     "text": [
      "\n"
     ]
    },
    {
     "name": "stdin",
     "output_type": "stream",
     "text": [
      "What is the price for product hat?: 5\n",
      "What is the price for product mug?: 3\n"
     ]
    },
    {
     "name": "stdout",
     "output_type": "stream",
     "text": [
      "\n",
      "\n"
     ]
    },
    {
     "name": "stdin",
     "output_type": "stream",
     "text": [
      "What is the price for product hat?: 5\n",
      "What is the price for product mug?: 3\n"
     ]
    },
    {
     "name": "stdout",
     "output_type": "stream",
     "text": [
      "Total price is: 8\n"
     ]
    }
   ],
   "source": [
    "inventory = initialize_inventory(products)\n",
    "print(\"\") #white line\n",
    "print(inventory)\n",
    "print(\"\") #white line\n",
    "customer_orders = list(get_customer_orders())\n",
    "print(\"\") #white line\n",
    "list_price = list(total_price(customer_orders))\n",
    "print(\"\") #white line\n",
    "update_inventory2(customer_orders, inventory)\n",
    "print(\"\") #white line\n",
    "T_price = total_price(customer_orders)\n",
    "print(T_price)"
   ]
  },
  {
   "cell_type": "code",
   "execution_count": null,
   "id": "d7a64249-37c4-4c72-afe8-957a2861973a",
   "metadata": {},
   "outputs": [],
   "source": []
  }
 ],
 "metadata": {
  "kernelspec": {
   "display_name": "Python 3 (ipykernel)",
   "language": "python",
   "name": "python3"
  },
  "language_info": {
   "codemirror_mode": {
    "name": "ipython",
    "version": 3
   },
   "file_extension": ".py",
   "mimetype": "text/x-python",
   "name": "python",
   "nbconvert_exporter": "python",
   "pygments_lexer": "ipython3",
   "version": "3.11.7"
  }
 },
 "nbformat": 4,
 "nbformat_minor": 5
}
